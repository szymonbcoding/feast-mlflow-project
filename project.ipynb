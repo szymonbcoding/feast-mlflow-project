{
 "cells": [
  {
   "cell_type": "code",
   "execution_count": 33,
   "metadata": {},
   "outputs": [
    {
     "data": {
      "text/html": [
       "<div>\n",
       "<style scoped>\n",
       "    .dataframe tbody tr th:only-of-type {\n",
       "        vertical-align: middle;\n",
       "    }\n",
       "\n",
       "    .dataframe tbody tr th {\n",
       "        vertical-align: top;\n",
       "    }\n",
       "\n",
       "    .dataframe thead th {\n",
       "        text-align: right;\n",
       "    }\n",
       "</style>\n",
       "<table border=\"1\" class=\"dataframe\">\n",
       "  <thead>\n",
       "    <tr style=\"text-align: right;\">\n",
       "      <th></th>\n",
       "      <th>sepal_length_cm</th>\n",
       "      <th>sepal_width_cm</th>\n",
       "      <th>petal_length_cm</th>\n",
       "      <th>petal_width_cm</th>\n",
       "      <th>target</th>\n",
       "      <th>event_timestamp</th>\n",
       "      <th>iris_id</th>\n",
       "    </tr>\n",
       "  </thead>\n",
       "  <tbody>\n",
       "    <tr>\n",
       "      <th>0</th>\n",
       "      <td>5.1</td>\n",
       "      <td>3.5</td>\n",
       "      <td>1.4</td>\n",
       "      <td>0.2</td>\n",
       "      <td>0.0</td>\n",
       "      <td>2023-02-20</td>\n",
       "      <td>0</td>\n",
       "    </tr>\n",
       "    <tr>\n",
       "      <th>1</th>\n",
       "      <td>4.9</td>\n",
       "      <td>3.0</td>\n",
       "      <td>1.4</td>\n",
       "      <td>0.2</td>\n",
       "      <td>0.0</td>\n",
       "      <td>2023-02-20</td>\n",
       "      <td>1</td>\n",
       "    </tr>\n",
       "    <tr>\n",
       "      <th>2</th>\n",
       "      <td>4.7</td>\n",
       "      <td>3.2</td>\n",
       "      <td>1.3</td>\n",
       "      <td>0.2</td>\n",
       "      <td>0.0</td>\n",
       "      <td>2023-02-20</td>\n",
       "      <td>2</td>\n",
       "    </tr>\n",
       "    <tr>\n",
       "      <th>3</th>\n",
       "      <td>4.6</td>\n",
       "      <td>3.1</td>\n",
       "      <td>1.5</td>\n",
       "      <td>0.2</td>\n",
       "      <td>0.0</td>\n",
       "      <td>2023-02-20</td>\n",
       "      <td>3</td>\n",
       "    </tr>\n",
       "    <tr>\n",
       "      <th>4</th>\n",
       "      <td>5.0</td>\n",
       "      <td>3.6</td>\n",
       "      <td>1.4</td>\n",
       "      <td>0.2</td>\n",
       "      <td>0.0</td>\n",
       "      <td>2023-02-20</td>\n",
       "      <td>4</td>\n",
       "    </tr>\n",
       "  </tbody>\n",
       "</table>\n",
       "</div>"
      ],
      "text/plain": [
       "   sepal_length_cm  sepal_width_cm  petal_length_cm  petal_width_cm  target  \\\n",
       "0              5.1             3.5              1.4             0.2     0.0   \n",
       "1              4.9             3.0              1.4             0.2     0.0   \n",
       "2              4.7             3.2              1.3             0.2     0.0   \n",
       "3              4.6             3.1              1.5             0.2     0.0   \n",
       "4              5.0             3.6              1.4             0.2     0.0   \n",
       "\n",
       "  event_timestamp  iris_id  \n",
       "0      2023-02-20        0  \n",
       "1      2023-02-20        1  \n",
       "2      2023-02-20        2  \n",
       "3      2023-02-20        3  \n",
       "4      2023-02-20        4  "
      ]
     },
     "execution_count": 33,
     "metadata": {},
     "output_type": "execute_result"
    }
   ],
   "source": [
    "import pandas as pd\n",
    "from sklearn.datasets import load_iris\n",
    "from datetime import datetime\n",
    "import numpy as np\n",
    "\n",
    "data = load_iris()\n",
    "data.feature_names = ['sepal_length_cm',\n",
    " 'sepal_width_cm',\n",
    " 'petal_length_cm',\n",
    " 'petal_width_cm']\n",
    "df = pd.DataFrame(data= np.c_[data['data'], data['target']],\n",
    "                     columns=data['feature_names'] + ['target'])\n",
    "df['event_timestamp'] = [datetime.fromisoformat('2023-02-20') for _ in data.target]\n",
    "df['iris_id'] = df.index.values\n",
    "df.head()"
   ]
  },
  {
   "cell_type": "code",
   "execution_count": 34,
   "metadata": {},
   "outputs": [
    {
     "name": "stdout",
     "output_type": "stream",
     "text": [
      "\n",
      "Creating a new Feast repository in \u001b[1m\u001b[32m/home/sbalawajder/projects/train/feast-mlflow/feast-mlflow-project/feature_repo\u001b[0m.\n",
      "\n"
     ]
    }
   ],
   "source": [
    "!feast init feature_repo"
   ]
  },
  {
   "cell_type": "code",
   "execution_count": 35,
   "metadata": {},
   "outputs": [],
   "source": [
    "df.to_parquet('feature_repo/feature_repo/data/iris_stats.parquet')"
   ]
  },
  {
   "cell_type": "code",
   "execution_count": 36,
   "metadata": {},
   "outputs": [],
   "source": [
    "with open(\"feature_repo/feature_repo/example_repo.py\", \"w\") as my_frepo:\n",
    "    my_frepo.write(\"\"\"from datetime import timedelta\n",
    "\n",
    "from feast import Entity, FeatureView, Field, FileSource, ValueType, FeatureService\n",
    "from feast.types import Float32, Int64\n",
    "\n",
    "iris_stats = FileSource(\n",
    "    path=\"/feature_repo/feature_repo/data/iris_stats.parquet\",\n",
    "    timestamp_field=\"event_timestamp\",\n",
    ")\n",
    "\n",
    "iris = Entity(name=\"iris\", value_type=ValueType.INT64, join_keys=[\"iris_id\"], description=\"iris id\",)\n",
    "\n",
    "# Our parquet files contain sample data that includes a driver_id column, timestamps and\n",
    "# three feature column. Here we define a Feature View that will allow us to serve this\n",
    "# data to our model online.\n",
    "iris_stats_fv = FeatureView(\n",
    "    name=\"iris_stats_view\",\n",
    "    entities=[\"iris\"],  # reference entity by name\n",
    "    ttl=timedelta(days=1),\n",
    "    schema=[\n",
    "        Field(name=\"sepal_length_cm\", dtype=Float32),\n",
    "        Field(name=\"sepal_width_cm\", dtype=Float32),\n",
    "        Field(name=\"petal_length_cm\", dtype=Float32),\n",
    "        Field(name=\"petal_width_cm\", dtype=Float32),\n",
    "        Field(name=\"target\", dtype=Int64),\n",
    "    ],\n",
    "    online=True,\n",
    "    source=iris_stats,\n",
    "    tags={},\n",
    ")\n",
    "\n",
    "# iris_stats_fs = FeatureService(\n",
    "#     name=\"iris_stats_fs\",\n",
    "#     features=iris_stats_fv\n",
    "# )\n",
    "\"\"\")"
   ]
  },
  {
   "cell_type": "code",
   "execution_count": 38,
   "metadata": {},
   "outputs": [
    {
     "name": "stdout",
     "output_type": "stream",
     "text": [
      "Traceback (most recent call last):\n",
      "  File \"/home/sbalawajder/projects/train/feast-mlflow/feast-mlflow-project/venv/bin/feast\", line 8, in <module>\n",
      "    sys.exit(cli())\n",
      "  File \"/home/sbalawajder/projects/train/feast-mlflow/feast-mlflow-project/venv/lib/python3.9/site-packages/click/core.py\", line 1130, in __call__\n",
      "    return self.main(*args, **kwargs)\n",
      "  File \"/home/sbalawajder/projects/train/feast-mlflow/feast-mlflow-project/venv/lib/python3.9/site-packages/click/core.py\", line 1055, in main\n",
      "    rv = self.invoke(ctx)\n",
      "  File \"/home/sbalawajder/projects/train/feast-mlflow/feast-mlflow-project/venv/lib/python3.9/site-packages/click/core.py\", line 1657, in invoke\n",
      "    return _process_result(sub_ctx.command.invoke(sub_ctx))\n",
      "  File \"/home/sbalawajder/projects/train/feast-mlflow/feast-mlflow-project/venv/lib/python3.9/site-packages/click/core.py\", line 1404, in invoke\n",
      "    return ctx.invoke(self.callback, **ctx.params)\n",
      "  File \"/home/sbalawajder/projects/train/feast-mlflow/feast-mlflow-project/venv/lib/python3.9/site-packages/click/core.py\", line 760, in invoke\n",
      "    return __callback(*args, **kwargs)\n",
      "  File \"/home/sbalawajder/projects/train/feast-mlflow/feast-mlflow-project/venv/lib/python3.9/site-packages/click/decorators.py\", line 26, in new_func\n",
      "    return f(get_current_context(), *args, **kwargs)\n",
      "  File \"/home/sbalawajder/projects/train/feast-mlflow/feast-mlflow-project/venv/lib/python3.9/site-packages/feast/cli.py\", line 532, in apply_total_command\n",
      "    apply_total(repo_config, repo, skip_source_validation)\n",
      "  File \"/home/sbalawajder/projects/train/feast-mlflow/feast-mlflow-project/venv/lib/python3.9/site-packages/feast/usage.py\", line 299, in wrapper\n",
      "    raise exc.with_traceback(traceback)\n",
      "  File \"/home/sbalawajder/projects/train/feast-mlflow/feast-mlflow-project/venv/lib/python3.9/site-packages/feast/usage.py\", line 288, in wrapper\n",
      "    return func(*args, **kwargs)\n",
      "  File \"/home/sbalawajder/projects/train/feast-mlflow/feast-mlflow-project/venv/lib/python3.9/site-packages/feast/repo_operations.py\", line 334, in apply_total\n",
      "    project, registry, repo, store = _prepare_registry_and_repo(repo_config, repo_path)\n",
      "  File \"/home/sbalawajder/projects/train/feast-mlflow/feast-mlflow-project/venv/lib/python3.9/site-packages/feast/repo_operations.py\", line 233, in _prepare_registry_and_repo\n",
      "    repo = parse_repo(repo_path)\n",
      "  File \"/home/sbalawajder/projects/train/feast-mlflow/feast-mlflow-project/venv/lib/python3.9/site-packages/feast/repo_operations.py\", line 119, in parse_repo\n",
      "    module = importlib.import_module(module_path)\n",
      "  File \"/usr/lib/python3.9/importlib/__init__.py\", line 127, in import_module\n",
      "    return _bootstrap._gcd_import(name[level:], package, level)\n",
      "  File \"<frozen importlib._bootstrap>\", line 1030, in _gcd_import\n",
      "  File \"<frozen importlib._bootstrap>\", line 1007, in _find_and_load\n",
      "  File \"<frozen importlib._bootstrap>\", line 986, in _find_and_load_unlocked\n",
      "  File \"<frozen importlib._bootstrap>\", line 680, in _load_unlocked\n",
      "  File \"<frozen importlib._bootstrap_external>\", line 850, in exec_module\n",
      "  File \"<frozen importlib._bootstrap>\", line 228, in _call_with_frames_removed\n",
      "  File \"/home/sbalawajder/projects/train/feast-mlflow/feast-mlflow-project/feature_repo/feature_repo/example_repo.py\", line 16, in <module>\n",
      "    iris_stats_fv = FeatureView(\n",
      "  File \"/home/sbalawajder/projects/train/feast-mlflow/feast-mlflow-project/venv/lib/python3.9/site-packages/typeguard/__init__.py\", line 1032, in wrapper\n",
      "    check_argument_types(memo)\n",
      "  File \"/home/sbalawajder/projects/train/feast-mlflow/feast-mlflow-project/venv/lib/python3.9/site-packages/typeguard/__init__.py\", line 875, in check_argument_types\n",
      "    raise TypeError(*exc.args) from None\n",
      "TypeError: type of argument \"entities\" must be one of (List[feast.entity.Entity], NoneType); got list instead\n"
     ]
    }
   ],
   "source": [
    "!cd feature_repo/feature_repo && feast apply"
   ]
  },
  {
   "cell_type": "code",
   "execution_count": null,
   "metadata": {},
   "outputs": [],
   "source": []
  }
 ],
 "metadata": {
  "kernelspec": {
   "display_name": "venv",
   "language": "python",
   "name": "python3"
  },
  "language_info": {
   "codemirror_mode": {
    "name": "ipython",
    "version": 3
   },
   "file_extension": ".py",
   "mimetype": "text/x-python",
   "name": "python",
   "nbconvert_exporter": "python",
   "pygments_lexer": "ipython3",
   "version": "3.9.16"
  },
  "orig_nbformat": 4,
  "vscode": {
   "interpreter": {
    "hash": "0f8ec14d73614d02865a77d4844aab46530deb985176994ed6c903aa03e5b5ed"
   }
  }
 },
 "nbformat": 4,
 "nbformat_minor": 2
}
