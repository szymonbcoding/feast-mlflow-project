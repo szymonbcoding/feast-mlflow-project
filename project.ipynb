{
 "cells": [
  {
   "attachments": {},
   "cell_type": "markdown",
   "metadata": {},
   "source": [
    "## Getting data\n",
    "\n",
    "Creating pandas DataFrame with iris dataset with added timestamps."
   ]
  },
  {
   "cell_type": "code",
   "execution_count": 1,
   "metadata": {},
   "outputs": [
    {
     "data": {
      "text/html": [
       "<div>\n",
       "<style scoped>\n",
       "    .dataframe tbody tr th:only-of-type {\n",
       "        vertical-align: middle;\n",
       "    }\n",
       "\n",
       "    .dataframe tbody tr th {\n",
       "        vertical-align: top;\n",
       "    }\n",
       "\n",
       "    .dataframe thead th {\n",
       "        text-align: right;\n",
       "    }\n",
       "</style>\n",
       "<table border=\"1\" class=\"dataframe\">\n",
       "  <thead>\n",
       "    <tr style=\"text-align: right;\">\n",
       "      <th></th>\n",
       "      <th>sepal_length_cm</th>\n",
       "      <th>sepal_width_cm</th>\n",
       "      <th>petal_length_cm</th>\n",
       "      <th>petal_width_cm</th>\n",
       "      <th>target</th>\n",
       "      <th>event_timestamp</th>\n",
       "      <th>iris_id</th>\n",
       "    </tr>\n",
       "  </thead>\n",
       "  <tbody>\n",
       "    <tr>\n",
       "      <th>0</th>\n",
       "      <td>5.1</td>\n",
       "      <td>3.5</td>\n",
       "      <td>1.4</td>\n",
       "      <td>0.2</td>\n",
       "      <td>0.0</td>\n",
       "      <td>2023-02-20</td>\n",
       "      <td>0</td>\n",
       "    </tr>\n",
       "    <tr>\n",
       "      <th>1</th>\n",
       "      <td>4.9</td>\n",
       "      <td>3.0</td>\n",
       "      <td>1.4</td>\n",
       "      <td>0.2</td>\n",
       "      <td>0.0</td>\n",
       "      <td>2023-02-20</td>\n",
       "      <td>1</td>\n",
       "    </tr>\n",
       "    <tr>\n",
       "      <th>2</th>\n",
       "      <td>4.7</td>\n",
       "      <td>3.2</td>\n",
       "      <td>1.3</td>\n",
       "      <td>0.2</td>\n",
       "      <td>0.0</td>\n",
       "      <td>2023-02-20</td>\n",
       "      <td>2</td>\n",
       "    </tr>\n",
       "    <tr>\n",
       "      <th>3</th>\n",
       "      <td>4.6</td>\n",
       "      <td>3.1</td>\n",
       "      <td>1.5</td>\n",
       "      <td>0.2</td>\n",
       "      <td>0.0</td>\n",
       "      <td>2023-02-20</td>\n",
       "      <td>3</td>\n",
       "    </tr>\n",
       "    <tr>\n",
       "      <th>4</th>\n",
       "      <td>5.0</td>\n",
       "      <td>3.6</td>\n",
       "      <td>1.4</td>\n",
       "      <td>0.2</td>\n",
       "      <td>0.0</td>\n",
       "      <td>2023-02-20</td>\n",
       "      <td>4</td>\n",
       "    </tr>\n",
       "  </tbody>\n",
       "</table>\n",
       "</div>"
      ],
      "text/plain": [
       "   sepal_length_cm  sepal_width_cm  petal_length_cm  petal_width_cm  target  \\\n",
       "0              5.1             3.5              1.4             0.2     0.0   \n",
       "1              4.9             3.0              1.4             0.2     0.0   \n",
       "2              4.7             3.2              1.3             0.2     0.0   \n",
       "3              4.6             3.1              1.5             0.2     0.0   \n",
       "4              5.0             3.6              1.4             0.2     0.0   \n",
       "\n",
       "  event_timestamp  iris_id  \n",
       "0      2023-02-20        0  \n",
       "1      2023-02-20        1  \n",
       "2      2023-02-20        2  \n",
       "3      2023-02-20        3  \n",
       "4      2023-02-20        4  "
      ]
     },
     "execution_count": 1,
     "metadata": {},
     "output_type": "execute_result"
    }
   ],
   "source": [
    "import pandas as pd\n",
    "from sklearn.datasets import load_iris\n",
    "from datetime import datetime\n",
    "import numpy as np\n",
    "\n",
    "chosen_datetime = '2023-02-20'\n",
    "\n",
    "data = load_iris()\n",
    "data.feature_names = ['sepal_length_cm',\n",
    " 'sepal_width_cm',\n",
    " 'petal_length_cm',\n",
    " 'petal_width_cm']\n",
    "df = pd.DataFrame(data= np.c_[data['data'], data['target']],\n",
    "                     columns=data['feature_names'] + ['target'])\n",
    "df['event_timestamp'] = [datetime.fromisoformat(chosen_datetime) for _ in data.target]\n",
    "df['iris_id'] = df.index.values\n",
    "df.head()"
   ]
  },
  {
   "attachments": {},
   "cell_type": "markdown",
   "metadata": {},
   "source": [
    "## Feature Store\n",
    "Initialize Feature Store"
   ]
  },
  {
   "cell_type": "code",
   "execution_count": 2,
   "metadata": {},
   "outputs": [
    {
     "name": "stdout",
     "output_type": "stream",
     "text": [
      "\n",
      "Creating a new Feast repository in \u001b[1m\u001b[32m/home/sbalawajder/projects/train/feast-mlflow/feast-mlflow-project/feature_repo\u001b[0m.\n",
      "\n"
     ]
    }
   ],
   "source": [
    "# https://docs.feast.dev/reference/feast-cli-commands#init\n",
    "!feast init -t local feature_repo"
   ]
  },
  {
   "attachments": {},
   "cell_type": "markdown",
   "metadata": {},
   "source": [
    "Save iris dataframe in feature repository in parquet format"
   ]
  },
  {
   "cell_type": "code",
   "execution_count": 3,
   "metadata": {},
   "outputs": [],
   "source": [
    "df.to_parquet('feature_repo/feature_repo/data/iris_stats.parquet')"
   ]
  },
  {
   "attachments": {},
   "cell_type": "markdown",
   "metadata": {},
   "source": [
    "Overwrite example feast elements definition"
   ]
  },
  {
   "cell_type": "code",
   "execution_count": 4,
   "metadata": {},
   "outputs": [],
   "source": [
    "# overwrite example feast elements definition\n",
    "import os \n",
    "with open(\"feature_repo/feature_repo/example_repo.py\", \"w\") as my_frepo:\n",
    "    my_frepo.write(f\"\"\"from datetime import timedelta\n",
    "\n",
    "from feast import Entity, FeatureView, Field, FileSource, ValueType, FeatureService\n",
    "from feast.types import Float32, Int64\n",
    "\n",
    "iris_stats_source = FileSource(\n",
    "    name = \"iris_stats_source\",\n",
    "    path=\"{os.path.abspath(os.getcwd())}/feature_repo/feature_repo/data/iris_stats.parquet\",\n",
    "    timestamp_field=\"event_timestamp\",\n",
    ")\n",
    "\n",
    "iris = Entity(name=\"iris\", join_keys=[\"iris_id\"])\n",
    "\n",
    "# Our parquet files contain sample data that includes a driver_id column, timestamps and\n",
    "# three feature column. Here we define a Feature View that will allow us to serve this\n",
    "# data to our model online.\n",
    "iris_stats_fv = FeatureView(\n",
    "    name=\"iris_stats_fv\",\n",
    "    entities=[iris],  # reference entity by name\n",
    "    ttl=timedelta(days=1),\n",
    "    schema=[\n",
    "        Field(name=\"sepal_length_cm\", dtype=Float32),\n",
    "        Field(name=\"sepal_width_cm\", dtype=Float32),\n",
    "        Field(name=\"petal_length_cm\", dtype=Float32),\n",
    "        Field(name=\"petal_width_cm\", dtype=Float32),\n",
    "        Field(name=\"target\", dtype=Int64),\n",
    "    ],\n",
    "    online=True,\n",
    "    source=iris_stats_source\n",
    ")\n",
    "\n",
    "iris_stats_fs = FeatureService(\n",
    "    name=\"iris_stats_fs\",\n",
    "    features=[iris_stats_fv]\n",
    ")\n",
    "\n",
    "\"\"\")"
   ]
  },
  {
   "attachments": {},
   "cell_type": "markdown",
   "metadata": {},
   "source": [
    "Create/update feature store deployment"
   ]
  },
  {
   "cell_type": "code",
   "execution_count": 5,
   "metadata": {},
   "outputs": [
    {
     "name": "stdout",
     "output_type": "stream",
     "text": [
      "/home/sbalawajder/projects/train/feast-mlflow/feast-mlflow-project/venv/lib/python3.9/site-packages/feast/infra/offline_stores/file_source.py:161: FutureWarning: 'ParquetDataset.schema' attribute is deprecated as of pyarrow 5.0.0 and will be removed in a future version. Specify 'use_legacy_dataset=False' while constructing the ParquetDataset, and then use the '.schema' attribute instead (which will return an Arrow schema instead of a Parquet schema).\n",
      "  schema = ParquetDataset(path).schema.to_arrow_schema()\n",
      "Created entity \u001b[1m\u001b[32miris\u001b[0m\n",
      "Created feature view \u001b[1m\u001b[32miris_stats_fv\u001b[0m\n",
      "Created feature service \u001b[1m\u001b[32miris_stats_fs\u001b[0m\n",
      "\n",
      "Created sqlite table \u001b[1m\u001b[32mfeature_repo_iris_stats_fv\u001b[0m\n",
      "\n"
     ]
    }
   ],
   "source": [
    "# create/update feature store deployment\n",
    "# https://docs.feast.dev/reference/feast-cli-commands#apply\n",
    "!feast -c feature_repo/feature_repo apply"
   ]
  },
  {
   "cell_type": "markdown",
   "metadata": {},
   "source": [
    "Get Feature View"
   ]
  },
  {
   "cell_type": "code",
   "execution_count": 8,
   "metadata": {},
   "outputs": [
    {
     "data": {
      "text/plain": [
       "<FeatureView(name = iris_stats_fv, entities = ['iris'], ttl = 1 day, 0:00:00, stream_source = None, batch_source = {\n",
       "  \"type\": \"BATCH_FILE\",\n",
       "  \"timestampField\": \"event_timestamp\",\n",
       "  \"fileOptions\": {\n",
       "    \"uri\": \"/home/sbalawajder/projects/train/feast-mlflow/feast-mlflow-project/feature_repo/feature_repo/data/iris_stats.parquet\"\n",
       "  },\n",
       "  \"name\": \"iris_stats_source\"\n",
       "}, entity_columns = [iris_id-Int64], features = [sepal_length_cm-Float32, sepal_width_cm-Float32, petal_length_cm-Float32, petal_width_cm-Float32, target-Int64], description = , tags = {}, owner = , projection = FeatureViewProjection(name='iris_stats_fv', name_alias=None, desired_features=[], features=[sepal_length_cm-Float32, sepal_width_cm-Float32, petal_length_cm-Float32, petal_width_cm-Float32, target-Int64], join_key_map={}), created_timestamp = 2023-04-07 11:33:13.278712, last_updated_timestamp = 2023-04-07 11:33:13.278712, online = True, materialization_intervals = [])>"
      ]
     },
     "execution_count": 8,
     "metadata": {},
     "output_type": "execute_result"
    }
   ],
   "source": [
    "from feast import FeatureStore\n",
    "\n",
    "store = FeatureStore(repo_path=\"feature_repo/feature_repo/.\")\n",
    "\n",
    "fv = store.get_feature_view(\"iris_stats_fv\")\n",
    "\n",
    "fv"
   ]
  },
  {
   "attachments": {},
   "cell_type": "markdown",
   "metadata": {},
   "source": [
    "Get historical features (from Offline Store) for ML model training "
   ]
  },
  {
   "cell_type": "code",
   "execution_count": 9,
   "metadata": {},
   "outputs": [
    {
     "data": {
      "text/html": [
       "<div>\n",
       "<style scoped>\n",
       "    .dataframe tbody tr th:only-of-type {\n",
       "        vertical-align: middle;\n",
       "    }\n",
       "\n",
       "    .dataframe tbody tr th {\n",
       "        vertical-align: top;\n",
       "    }\n",
       "\n",
       "    .dataframe thead th {\n",
       "        text-align: right;\n",
       "    }\n",
       "</style>\n",
       "<table border=\"1\" class=\"dataframe\">\n",
       "  <thead>\n",
       "    <tr style=\"text-align: right;\">\n",
       "      <th></th>\n",
       "      <th>iris_id</th>\n",
       "      <th>event_timestamp</th>\n",
       "      <th>iris_stats_fv__sepal_length_cm</th>\n",
       "      <th>iris_stats_fv__sepal_width_cm</th>\n",
       "      <th>iris_stats_fv__petal_length_cm</th>\n",
       "      <th>iris_stats_fv__petal_width_cm</th>\n",
       "      <th>iris_stats_fv__target</th>\n",
       "    </tr>\n",
       "  </thead>\n",
       "  <tbody>\n",
       "    <tr>\n",
       "      <th>0</th>\n",
       "      <td>0</td>\n",
       "      <td>2023-02-20 00:00:00+00:00</td>\n",
       "      <td>5.1</td>\n",
       "      <td>3.5</td>\n",
       "      <td>1.4</td>\n",
       "      <td>0.2</td>\n",
       "      <td>0.0</td>\n",
       "    </tr>\n",
       "    <tr>\n",
       "      <th>1</th>\n",
       "      <td>96</td>\n",
       "      <td>2023-02-20 00:00:00+00:00</td>\n",
       "      <td>5.7</td>\n",
       "      <td>2.9</td>\n",
       "      <td>4.2</td>\n",
       "      <td>1.3</td>\n",
       "      <td>1.0</td>\n",
       "    </tr>\n",
       "    <tr>\n",
       "      <th>2</th>\n",
       "      <td>97</td>\n",
       "      <td>2023-02-20 00:00:00+00:00</td>\n",
       "      <td>6.2</td>\n",
       "      <td>2.9</td>\n",
       "      <td>4.3</td>\n",
       "      <td>1.3</td>\n",
       "      <td>1.0</td>\n",
       "    </tr>\n",
       "    <tr>\n",
       "      <th>3</th>\n",
       "      <td>98</td>\n",
       "      <td>2023-02-20 00:00:00+00:00</td>\n",
       "      <td>5.1</td>\n",
       "      <td>2.5</td>\n",
       "      <td>3.0</td>\n",
       "      <td>1.1</td>\n",
       "      <td>1.0</td>\n",
       "    </tr>\n",
       "    <tr>\n",
       "      <th>4</th>\n",
       "      <td>99</td>\n",
       "      <td>2023-02-20 00:00:00+00:00</td>\n",
       "      <td>5.7</td>\n",
       "      <td>2.8</td>\n",
       "      <td>4.1</td>\n",
       "      <td>1.3</td>\n",
       "      <td>1.0</td>\n",
       "    </tr>\n",
       "  </tbody>\n",
       "</table>\n",
       "</div>"
      ],
      "text/plain": [
       "   iris_id           event_timestamp  iris_stats_fv__sepal_length_cm  \\\n",
       "0        0 2023-02-20 00:00:00+00:00                             5.1   \n",
       "1       96 2023-02-20 00:00:00+00:00                             5.7   \n",
       "2       97 2023-02-20 00:00:00+00:00                             6.2   \n",
       "3       98 2023-02-20 00:00:00+00:00                             5.1   \n",
       "4       99 2023-02-20 00:00:00+00:00                             5.7   \n",
       "\n",
       "   iris_stats_fv__sepal_width_cm  iris_stats_fv__petal_length_cm  \\\n",
       "0                            3.5                             1.4   \n",
       "1                            2.9                             4.2   \n",
       "2                            2.9                             4.3   \n",
       "3                            2.5                             3.0   \n",
       "4                            2.8                             4.1   \n",
       "\n",
       "   iris_stats_fv__petal_width_cm  iris_stats_fv__target  \n",
       "0                            0.2                    0.0  \n",
       "1                            1.3                    1.0  \n",
       "2                            1.3                    1.0  \n",
       "3                            1.1                    1.0  \n",
       "4                            1.3                    1.0  "
      ]
     },
     "execution_count": 9,
     "metadata": {},
     "output_type": "execute_result"
    }
   ],
   "source": [
    "from feast_extra_functions import get_entity_df\n",
    "\n",
    "training_df = store.get_historical_features(\n",
    "    entity_df = get_entity_df(no_ids=150, dt = chosen_datetime, join_key = 'iris_id'),\n",
    "    features=[\n",
    "        \"iris_stats_fv:sepal_length_cm\",\n",
    "        \"iris_stats_fv:sepal_width_cm\",\n",
    "        \"iris_stats_fv:petal_length_cm\",\n",
    "        \"iris_stats_fv:petal_width_cm\",\n",
    "        \"iris_stats_fv:target\",\n",
    "    ],\n",
    "    full_feature_names = True,\n",
    ").to_df()\n",
    "\n",
    "training_df.head()"
   ]
  },
  {
   "cell_type": "markdown",
   "metadata": {},
   "source": [
    "Prepare data from Offline Store for ML model training"
   ]
  },
  {
   "cell_type": "code",
   "execution_count": 10,
   "metadata": {},
   "outputs": [],
   "source": [
    "import importlib\n",
    "import mlflow \n",
    "importlib.reload(mlflow)\n",
    "import mlflow.sklearn\n",
    "from sklearn.metrics import precision_score, accuracy_score, recall_score\n",
    "from sklearn.model_selection import train_test_split\n",
    "from sklearn.linear_model import LogisticRegression\n",
    "\n",
    "from sklearn.model_selection import GridSearchCV, train_test_split\n",
    "from sklearn import svm\n",
    "from sklearn.ensemble import RandomForestClassifier"
   ]
  },
  {
   "cell_type": "markdown",
   "metadata": {},
   "source": [
    "Split data"
   ]
  },
  {
   "cell_type": "code",
   "execution_count": 11,
   "metadata": {},
   "outputs": [],
   "source": [
    "# get features from dataframe taken from offline_store\n",
    "\n",
    "train_X = training_df[['iris_stats_fv__sepal_length_cm','iris_stats_fv__sepal_width_cm', 'iris_stats_fv__petal_length_cm', 'iris_stats_fv__petal_width_cm']]\n",
    "train_Y = training_df['iris_stats_fv__target']\n",
    "\n",
    "# Split data in train & test\n",
    "x_train, x_test, y_train, y_test = train_test_split(\n",
    "    train_X,\n",
    "    train_Y,\n",
    "    test_size= 0.2,\n",
    "    random_state= 1234\n",
    "    )\n"
   ]
  },
  {
   "cell_type": "markdown",
   "metadata": {},
   "source": [
    "Define hiperparameter grid with ML algorithms"
   ]
  },
  {
   "cell_type": "code",
   "execution_count": 12,
   "metadata": {},
   "outputs": [
    {
     "data": {
      "text/html": [
       "<div>\n",
       "<style scoped>\n",
       "    .dataframe tbody tr th:only-of-type {\n",
       "        vertical-align: middle;\n",
       "    }\n",
       "\n",
       "    .dataframe tbody tr th {\n",
       "        vertical-align: top;\n",
       "    }\n",
       "\n",
       "    .dataframe thead th {\n",
       "        text-align: right;\n",
       "    }\n",
       "</style>\n",
       "<table border=\"1\" class=\"dataframe\">\n",
       "  <thead>\n",
       "    <tr style=\"text-align: right;\">\n",
       "      <th></th>\n",
       "      <th>model</th>\n",
       "      <th>best_score</th>\n",
       "      <th>best_params</th>\n",
       "    </tr>\n",
       "  </thead>\n",
       "  <tbody>\n",
       "    <tr>\n",
       "      <th>0</th>\n",
       "      <td>svm</td>\n",
       "      <td>0.975000</td>\n",
       "      <td>{'C': 1, 'kernel': 'rbf'}</td>\n",
       "    </tr>\n",
       "    <tr>\n",
       "      <th>1</th>\n",
       "      <td>random_forest</td>\n",
       "      <td>0.983333</td>\n",
       "      <td>{'max_depth': 6, 'max_features': 2, 'min_sampl...</td>\n",
       "    </tr>\n",
       "    <tr>\n",
       "      <th>2</th>\n",
       "      <td>logistic_regression</td>\n",
       "      <td>0.991667</td>\n",
       "      <td>{'C': 10}</td>\n",
       "    </tr>\n",
       "  </tbody>\n",
       "</table>\n",
       "</div>"
      ],
      "text/plain": [
       "                 model  best_score  \\\n",
       "0                  svm    0.975000   \n",
       "1        random_forest    0.983333   \n",
       "2  logistic_regression    0.991667   \n",
       "\n",
       "                                         best_params  \n",
       "0                          {'C': 1, 'kernel': 'rbf'}  \n",
       "1  {'max_depth': 6, 'max_features': 2, 'min_sampl...  \n",
       "2                                          {'C': 10}  "
      ]
     },
     "execution_count": 12,
     "metadata": {},
     "output_type": "execute_result"
    }
   ],
   "source": [
    "model_params = {\n",
    "    'svm': {\n",
    "        'model': svm.SVC(gamma='auto'),\n",
    "        'params' : {\n",
    "            'C': [1,10,20],\n",
    "            'kernel': ['rbf','linear']\n",
    "        }  \n",
    "    },\n",
    "    'random_forest': {\n",
    "        'model': RandomForestClassifier(),\n",
    "        'params' : {\n",
    "            'n_estimators': [1,5,10],\n",
    "            'max_depth':[6,8,10], \n",
    "            'min_samples_split':[2,3,4,5],\n",
    "            'min_samples_leaf':[2,3,4,5],\n",
    "            'max_features': [2,3]\n",
    "        }\n",
    "    },\n",
    "    'logistic_regression' : {\n",
    "        'model': LogisticRegression(solver='liblinear',multi_class='auto'),\n",
    "        'params': {\n",
    "            'C': [1,5,10]\n",
    "        }\n",
    "    }\n",
    "}\n",
    "\n",
    "# Grid search\n",
    "scores = []\n",
    "class_grid_fit_list = []\n",
    "\n",
    "for model_name, mp in model_params.items():\n",
    "    class_grid =  GridSearchCV(mp['model'], mp['params'], cv=5, return_train_score=False)\n",
    "    class_grid_fit = class_grid.fit(x_train, y_train)\n",
    "    scores.append({\n",
    "        'model': model_name,\n",
    "        'best_score': class_grid.best_score_,\n",
    "        'best_params': class_grid.best_params_\n",
    "        \n",
    "    })\n",
    "    class_grid_fit_list.append(class_grid_fit)\n",
    "\n",
    "# Printing results of training\n",
    "\n",
    "df_training_results = pd.DataFrame(scores,columns=['model','best_score','best_params'])\n",
    "df_training_results"
   ]
  },
  {
   "cell_type": "markdown",
   "metadata": {},
   "source": [
    "Log training results for ML model with the best score"
   ]
  },
  {
   "cell_type": "code",
   "execution_count": 13,
   "metadata": {},
   "outputs": [
    {
     "name": "stdout",
     "output_type": "stream",
     "text": [
      "ML algorithm: svm\n",
      "c43b597209a541c7b1f0073ad330b111\n",
      "ML algorithm: random_forest\n",
      "21ec6291f496457d8b1be1444db331ec\n",
      "ML algorithm: logistic_regression\n",
      "04ae6eafb32c45c3936218bdcc0b6790\n"
     ]
    }
   ],
   "source": [
    "model_run_id_algorithm_dict = {}\n",
    "\n",
    "for index, cgf in enumerate(class_grid_fit_list):\n",
    "\n",
    "    with mlflow.start_run():\n",
    "        \n",
    "        model_algorithm = tuple(model_params.keys())[index]\n",
    "        model_algorithm_dict = {'algorithm': model_algorithm}\n",
    "        \n",
    "        cgf.best_params_.update(model_algorithm_dict)\n",
    "    \n",
    "        # I log the best fitting parameters \n",
    "        mlflow.log_params(cgf.best_params_)\n",
    "        \n",
    "        # I get predictions\n",
    "        y_pred = cgf.predict(x_test)\n",
    "\n",
    "        # I calculate acuraccy, precission & recall\n",
    "        accuracy = accuracy_score(y_test, y_pred)\n",
    "        precision = precision_score(y_test, y_pred, average='weighted')\n",
    "        recall = recall_score(y_test, y_pred, average='weighted')\n",
    "        print(f'ML algorithm: {model_algorithm}')\n",
    "\n",
    "        # I log parameters\n",
    "        metrics ={\n",
    "            'accuracy': accuracy,\n",
    "            'precision': precision, \n",
    "            'recall': recall \n",
    "            }\n",
    "\n",
    "        mlflow.log_metrics(metrics)\n",
    "        rid = mlflow.active_run().info.run_id\n",
    "        print(rid)\n",
    "        mlflow.sklearn.log_model(cgf, f\"model_{model_algorithm}\")     \n",
    "           "
   ]
  },
  {
   "cell_type": "markdown",
   "metadata": {},
   "source": [
    "Run MLflow UI (optional)"
   ]
  },
  {
   "cell_type": "code",
   "execution_count": 14,
   "metadata": {},
   "outputs": [
    {
     "name": "stdout",
     "output_type": "stream",
     "text": [
      "[2023-04-07 13:35:31 +0200] [1810] [INFO] Starting gunicorn 20.1.0\n",
      "[2023-04-07 13:35:31 +0200] [1810] [INFO] Listening at: http://127.0.0.1:5000 (1810)\n",
      "[2023-04-07 13:35:31 +0200] [1810] [INFO] Using worker: sync\n",
      "[2023-04-07 13:35:31 +0200] [1811] [INFO] Booting worker with pid: 1811\n",
      "[2023-04-07 13:35:31 +0200] [1812] [INFO] Booting worker with pid: 1812\n",
      "[2023-04-07 13:35:31 +0200] [1813] [INFO] Booting worker with pid: 1813\n",
      "[2023-04-07 13:35:31 +0200] [1814] [INFO] Booting worker with pid: 1814\n",
      "^C\n",
      "[2023-04-07 13:35:47 +0200] [1810] [INFO] Handling signal: int\n",
      "[2023-04-07 13:35:47 +0200] [1812] [INFO] Worker exiting (pid: 1812)\n",
      "[2023-04-07 13:35:47 +0200] [1814] [INFO] Worker exiting (pid: 1814)\n",
      "[2023-04-07 13:35:47 +0200] [1813] [INFO] Worker exiting (pid: 1813)\n",
      "[2023-04-07 13:35:47 +0200] [1811] [INFO] Worker exiting (pid: 1811)\n"
     ]
    }
   ],
   "source": [
    "!mlflow ui"
   ]
  },
  {
   "cell_type": "markdown",
   "metadata": {},
   "source": [
    "Materialize data from Offline Store to Online Store"
   ]
  },
  {
   "cell_type": "code",
   "execution_count": 15,
   "metadata": {},
   "outputs": [
    {
     "data": {
      "text/plain": [
       "datetime.date(2023, 2, 21)"
      ]
     },
     "execution_count": 15,
     "metadata": {},
     "output_type": "execute_result"
    }
   ],
   "source": [
    "from datetime import timedelta\n",
    "from datetime import date\n",
    "\n",
    "chosen_datetime_plus_1_day = (datetime.strptime(chosen_datetime, \"%Y-%m-%d\") + timedelta(days=1)).date()\n",
    "chosen_datetime_plus_1_day"
   ]
  },
  {
   "cell_type": "code",
   "execution_count": 16,
   "metadata": {},
   "outputs": [
    {
     "name": "stdout",
     "output_type": "stream",
     "text": [
      "Materializing \u001b[1m\u001b[32m1\u001b[0m feature views from \u001b[1m\u001b[32m2023-02-20 01:00:00+01:00\u001b[0m to \u001b[1m\u001b[32m2023-02-21 01:00:00+01:00\u001b[0m into the \u001b[1m\u001b[32msqlite\u001b[0m online store.\n",
      "\n",
      "\u001b[1m\u001b[32miris_stats_fv\u001b[0m:\n",
      "100%|███████████████████████████████████████████████████████████| 150/150 [00:00<00:00, 8432.57it/s]\n"
     ]
    }
   ],
   "source": [
    "!feast -c feature_repo/feature_repo materialize $chosen_datetime $chosen_datetime_plus_1_day"
   ]
  },
  {
   "cell_type": "markdown",
   "metadata": {},
   "source": [
    "Retrieve data from Online Store"
   ]
  },
  {
   "cell_type": "code",
   "execution_count": 27,
   "metadata": {},
   "outputs": [
    {
     "data": {
      "text/html": [
       "<div>\n",
       "<style scoped>\n",
       "    .dataframe tbody tr th:only-of-type {\n",
       "        vertical-align: middle;\n",
       "    }\n",
       "\n",
       "    .dataframe tbody tr th {\n",
       "        vertical-align: top;\n",
       "    }\n",
       "\n",
       "    .dataframe thead th {\n",
       "        text-align: right;\n",
       "    }\n",
       "</style>\n",
       "<table border=\"1\" class=\"dataframe\">\n",
       "  <thead>\n",
       "    <tr style=\"text-align: right;\">\n",
       "      <th></th>\n",
       "      <th>iris_stats_fv__sepal_length_cm</th>\n",
       "      <th>iris_stats_fv__sepal_width_cm</th>\n",
       "      <th>iris_stats_fv__petal_length_cm</th>\n",
       "      <th>iris_stats_fv__petal_width_cm</th>\n",
       "    </tr>\n",
       "  </thead>\n",
       "  <tbody>\n",
       "    <tr>\n",
       "      <th>0</th>\n",
       "      <td>6.7</td>\n",
       "      <td>3.0</td>\n",
       "      <td>5.2</td>\n",
       "      <td>2.3</td>\n",
       "    </tr>\n",
       "    <tr>\n",
       "      <th>1</th>\n",
       "      <td>6.3</td>\n",
       "      <td>2.5</td>\n",
       "      <td>5.0</td>\n",
       "      <td>1.9</td>\n",
       "    </tr>\n",
       "    <tr>\n",
       "      <th>2</th>\n",
       "      <td>6.5</td>\n",
       "      <td>3.0</td>\n",
       "      <td>5.2</td>\n",
       "      <td>2.0</td>\n",
       "    </tr>\n",
       "    <tr>\n",
       "      <th>3</th>\n",
       "      <td>6.2</td>\n",
       "      <td>3.4</td>\n",
       "      <td>5.4</td>\n",
       "      <td>2.3</td>\n",
       "    </tr>\n",
       "    <tr>\n",
       "      <th>4</th>\n",
       "      <td>5.9</td>\n",
       "      <td>3.0</td>\n",
       "      <td>5.1</td>\n",
       "      <td>1.8</td>\n",
       "    </tr>\n",
       "  </tbody>\n",
       "</table>\n",
       "</div>"
      ],
      "text/plain": [
       "   iris_stats_fv__sepal_length_cm  iris_stats_fv__sepal_width_cm  \\\n",
       "0                             6.7                            3.0   \n",
       "1                             6.3                            2.5   \n",
       "2                             6.5                            3.0   \n",
       "3                             6.2                            3.4   \n",
       "4                             5.9                            3.0   \n",
       "\n",
       "   iris_stats_fv__petal_length_cm  iris_stats_fv__petal_width_cm  \n",
       "0                             5.2                            2.3  \n",
       "1                             5.0                            1.9  \n",
       "2                             5.2                            2.0  \n",
       "3                             5.4                            2.3  \n",
       "4                             5.1                            1.8  "
      ]
     },
     "execution_count": 27,
     "metadata": {},
     "output_type": "execute_result"
    }
   ],
   "source": [
    "online_features = store.get_online_features(\n",
    "    features = [f\"{fv.name}:{fname}\" for fname in data.feature_names],\n",
    "    entity_rows=[{f\"{fv.entities[0]}_id\" : id} for id in range(145,150)],\n",
    "    full_feature_names = True\n",
    ").to_df()[['iris_stats_fv__sepal_length_cm','iris_stats_fv__sepal_width_cm', 'iris_stats_fv__petal_length_cm', 'iris_stats_fv__petal_width_cm']]\n",
    "\n",
    "online_features"
   ]
  },
  {
   "cell_type": "markdown",
   "metadata": {},
   "source": [
    "Use trained ML model for getting predictions"
   ]
  },
  {
   "cell_type": "code",
   "execution_count": 25,
   "metadata": {},
   "outputs": [
    {
     "data": {
      "text/plain": [
       "array([2., 2., 2., 2., 2.])"
      ]
     },
     "execution_count": 25,
     "metadata": {},
     "output_type": "execute_result"
    }
   ],
   "source": [
    "import pickle\n",
    "\n",
    "with open (f\"mlruns/0/{rid}/artifacts/model_{model_algorithm}/model.pkl\", \"rb\") as f:\n",
    "    model = pickle.load(f)\n",
    "\n",
    "prediction = model.predict(online_features)\n",
    "prediction\n"
   ]
  }
 ],
 "metadata": {
  "kernelspec": {
   "display_name": "venv",
   "language": "python",
   "name": "python3"
  },
  "language_info": {
   "codemirror_mode": {
    "name": "ipython",
    "version": 3
   },
   "file_extension": ".py",
   "mimetype": "text/x-python",
   "name": "python",
   "nbconvert_exporter": "python",
   "pygments_lexer": "ipython3",
   "version": "3.9.16"
  },
  "orig_nbformat": 4,
  "vscode": {
   "interpreter": {
    "hash": "0f8ec14d73614d02865a77d4844aab46530deb985176994ed6c903aa03e5b5ed"
   }
  }
 },
 "nbformat": 4,
 "nbformat_minor": 2
}
